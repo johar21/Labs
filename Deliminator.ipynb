{
 "cells": [
  {
   "cell_type": "code",
   "execution_count": 1,
   "id": "06ebdd7b-9675-4ceb-bb01-1cea3f91b788",
   "metadata": {},
   "outputs": [],
   "source": [
    "from pyspark.sql import SparkSession "
   ]
  },
  {
   "cell_type": "code",
   "execution_count": 2,
   "id": "9bcd737f-dd0e-475a-b742-721594b61d8c",
   "metadata": {},
   "outputs": [
    {
     "name": "stderr",
     "output_type": "stream",
     "text": [
      "23/09/18 21:20:06 WARN Utils: Your hostname, Amandeeps-MacBook-Air.local resolves to a loopback address: 127.0.0.1; using 192.168.0.103 instead (on interface en0)\n",
      "23/09/18 21:20:06 WARN Utils: Set SPARK_LOCAL_IP if you need to bind to another address\n",
      "Setting default log level to \"WARN\".\n",
      "To adjust logging level use sc.setLogLevel(newLevel). For SparkR, use setLogLevel(newLevel).\n",
      "23/09/18 21:20:07 WARN NativeCodeLoader: Unable to load native-hadoop library for your platform... using builtin-java classes where applicable\n"
     ]
    }
   ],
   "source": [
    "spark= SparkSession.builder.appName(\"deliminator_reading\").master(\"local[*]\").getOrCreate()"
   ]
  },
  {
   "cell_type": "code",
   "execution_count": 5,
   "id": "e6045c01-7f78-4783-8303-aaecc00398ba",
   "metadata": {},
   "outputs": [],
   "source": [
    "import re\n",
    "\n",
    "def get_delimiter_dynamically(soure_data_path):\n",
    "    try:\n",
    "        list_header=sc.textFile(soure_data_path).take(1)\n",
    "        header_string=''.join(list_header)\n",
    "        result=re.search(\"(,|;|\\\\|\",header_string)\n",
    "        return result.group()\n",
    "    except Exception as err:\n",
    "        print(\"Error found\",str(err))"
   ]
  },
  {
   "cell_type": "code",
   "execution_count": null,
   "id": "b83a710f-3d93-4fae-9a23-30a64abc14cd",
   "metadata": {},
   "outputs": [],
   "source": []
  }
 ],
 "metadata": {
  "kernelspec": {
   "display_name": "Python 3 (ipykernel)",
   "language": "python",
   "name": "python3"
  },
  "language_info": {
   "codemirror_mode": {
    "name": "ipython",
    "version": 3
   },
   "file_extension": ".py",
   "mimetype": "text/x-python",
   "name": "python",
   "nbconvert_exporter": "python",
   "pygments_lexer": "ipython3",
   "version": "3.11.4"
  }
 },
 "nbformat": 4,
 "nbformat_minor": 5
}
