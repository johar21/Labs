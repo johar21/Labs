{
 "cells": [
  {
   "cell_type": "code",
   "execution_count": 1,
   "id": "bed03ba4-7d45-43dd-aa07-459f86bf75e1",
   "metadata": {},
   "outputs": [],
   "source": [
    "from pyspark.sql import Row\n",
    "from pyspark.sql.types import *\n",
    "from pyspark.sql.session import SparkSession"
   ]
  },
  {
   "cell_type": "code",
   "execution_count": 2,
   "id": "abc65a70-fe62-4b2f-bb31-3debcc8f4b49",
   "metadata": {},
   "outputs": [
    {
     "name": "stderr",
     "output_type": "stream",
     "text": [
      "Setting default log level to \"WARN\".\n",
      "To adjust logging level use sc.setLogLevel(newLevel). For SparkR, use setLogLevel(newLevel).\n",
      "23/08/15 17:41:34 WARN NativeCodeLoader: Unable to load native-hadoop library for your platform... using builtin-java classes where applicable\n"
     ]
    }
   ],
   "source": [
    "spark = SparkSession.builder.appName('jsonParsing').getOrCreate()"
   ]
  },
  {
   "cell_type": "code",
   "execution_count": 3,
   "id": "dfac92da-6e61-4c7c-9e5f-5955b5891464",
   "metadata": {},
   "outputs": [],
   "source": [
    "import requests, json\n",
    "def read_api(url: str):\n",
    "    normalized_data = dict()\n",
    "    data = requests.get(api_url).json() \n",
    "    normalized_data[\"_data\"] = data # Normalize payload to handle array situtations\n",
    "    return json.dumps(normalized_data)"
   ]
  },
  {
   "cell_type": "code",
   "execution_count": 4,
   "id": "9b8d2e74-e9fd-4b50-baec-79d7f87518b2",
   "metadata": {},
   "outputs": [
    {
     "name": "stderr",
     "output_type": "stream",
     "text": [
      "                                                                                \r"
     ]
    },
    {
     "name": "stdout",
     "output_type": "stream",
     "text": [
      "root\n",
      " |-- _data: struct (nullable = true)\n",
      " |    |-- bpi: struct (nullable = true)\n",
      " |    |    |-- EUR: struct (nullable = true)\n",
      " |    |    |    |-- code: string (nullable = true)\n",
      " |    |    |    |-- description: string (nullable = true)\n",
      " |    |    |    |-- rate: string (nullable = true)\n",
      " |    |    |    |-- rate_float: double (nullable = true)\n",
      " |    |    |    |-- symbol: string (nullable = true)\n",
      " |    |    |-- GBP: struct (nullable = true)\n",
      " |    |    |    |-- code: string (nullable = true)\n",
      " |    |    |    |-- description: string (nullable = true)\n",
      " |    |    |    |-- rate: string (nullable = true)\n",
      " |    |    |    |-- rate_float: double (nullable = true)\n",
      " |    |    |    |-- symbol: string (nullable = true)\n",
      " |    |    |-- USD: struct (nullable = true)\n",
      " |    |    |    |-- code: string (nullable = true)\n",
      " |    |    |    |-- description: string (nullable = true)\n",
      " |    |    |    |-- rate: string (nullable = true)\n",
      " |    |    |    |-- rate_float: double (nullable = true)\n",
      " |    |    |    |-- symbol: string (nullable = true)\n",
      " |    |-- chartName: string (nullable = true)\n",
      " |    |-- disclaimer: string (nullable = true)\n",
      " |    |-- time: struct (nullable = true)\n",
      " |    |    |-- updated: string (nullable = true)\n",
      " |    |    |-- updatedISO: string (nullable = true)\n",
      " |    |    |-- updateduk: string (nullable = true)\n",
      "\n"
     ]
    }
   ],
   "source": [
    "api_url = r\"https://api.coindesk.com/v1/bpi/currentprice.json\"\n",
    "# api_url = \"https://api.wazirx.com/sapi/v1/tickers/24hr\"\n",
    "# Read data into Data Frame\n",
    "# Create payload rdd\n",
    "payload = json.loads(read_api(api_url))\n",
    "payload_rdd = spark.sparkContext.parallelize([payload])\n",
    "# Read from JSON\n",
    "df = spark.read.json(payload_rdd)\n",
    "df.select(\"_data\").printSchema()"
   ]
  },
  {
   "cell_type": "code",
   "execution_count": 5,
   "id": "704c4620-56bf-4567-abcd-5077646e4f1c",
   "metadata": {},
   "outputs": [
    {
     "name": "stdout",
     "output_type": "stream",
     "text": [
      "+----------------------------------------------------------------------------------------------------------------------------------------------------------------------------+---------+-----------------------------------------------------------------------------------------------------------------------------------------------------------+---------------------------------------------------------------------------------+\n",
      "|bpi                                                                                                                                                                         |chartName|disclaimer                                                                                                                                                 |time                                                                             |\n",
      "+----------------------------------------------------------------------------------------------------------------------------------------------------------------------------+---------+-----------------------------------------------------------------------------------------------------------------------------------------------------------+---------------------------------------------------------------------------------+\n",
      "|{{EUR, Euro, 28,599.4427, 28599.4427, &euro;}, {GBP, British Pound Sterling, 24,531.7083, 24531.7083, &pound;}, {USD, United States Dollar, 29,358.4768, 29358.4768, &#36;}}|Bitcoin  |This data was produced from the CoinDesk Bitcoin Price Index (USD). Non-USD currency data converted using hourly conversion rate from openexchangerates.org|{Aug 15, 2023 12:11:00 UTC, 2023-08-15T12:11:00+00:00, Aug 15, 2023 at 13:11 BST}|\n",
      "+----------------------------------------------------------------------------------------------------------------------------------------------------------------------------+---------+-----------------------------------------------------------------------------------------------------------------------------------------------------------+---------------------------------------------------------------------------------+\n",
      "\n"
     ]
    }
   ],
   "source": [
    "# Expand root element to read Struct Data\n",
    "df.select(\"_data.*\").show(truncate=False)"
   ]
  },
  {
   "cell_type": "code",
   "execution_count": 6,
   "id": "27615866-3dc1-42e6-9938-cf4056363414",
   "metadata": {},
   "outputs": [
    {
     "name": "stdout",
     "output_type": "stream",
     "text": [
      "+----+--------------------+-----------+----------+------+\n",
      "|code|description         |rate       |rate_float|symbol|\n",
      "+----+--------------------+-----------+----------+------+\n",
      "|USD |United States Dollar|29,358.4768|29358.4768|&#36; |\n",
      "+----+--------------------+-----------+----------+------+\n",
      "\n"
     ]
    }
   ],
   "source": [
    "# Expand further elements to read USD data\n",
    "df.select(\"_data.*\").select(\"bpi.*\").select(\"USD.*\").show(truncate=False)"
   ]
  },
  {
   "cell_type": "code",
   "execution_count": 7,
   "id": "a6c87e75-d7cf-4a7e-b220-6b1a754ab850",
   "metadata": {},
   "outputs": [],
   "source": [
    "api_url_wazir = \"https://api.wazirx.com/sapi/v1/tickers/24hr\""
   ]
  },
  {
   "cell_type": "code",
   "execution_count": 11,
   "id": "0bb0c758-78bf-44f6-bdcb-71d7ba10ce72",
   "metadata": {},
   "outputs": [],
   "source": [
    "payload_wazir = json.loads(read_api(api_url_wazir))\n",
    "payload_rdd_wazir = spark.sparkContext.parallelize([payload_wazir])\n",
    "# Read from JSON\n",
    "df_wazir = spark.read.json(payload_rdd_wazir)\n"
   ]
  },
  {
   "cell_type": "code",
   "execution_count": 12,
   "id": "567bf6d0-011a-46f1-926a-2d8618458bd1",
   "metadata": {},
   "outputs": [
    {
     "name": "stdout",
     "output_type": "stream",
     "text": [
      "root\n",
      " |-- _data: struct (nullable = true)\n",
      " |    |-- bpi: struct (nullable = true)\n",
      " |    |    |-- EUR: struct (nullable = true)\n",
      " |    |    |    |-- code: string (nullable = true)\n",
      " |    |    |    |-- description: string (nullable = true)\n",
      " |    |    |    |-- rate: string (nullable = true)\n",
      " |    |    |    |-- rate_float: double (nullable = true)\n",
      " |    |    |    |-- symbol: string (nullable = true)\n",
      " |    |    |-- GBP: struct (nullable = true)\n",
      " |    |    |    |-- code: string (nullable = true)\n",
      " |    |    |    |-- description: string (nullable = true)\n",
      " |    |    |    |-- rate: string (nullable = true)\n",
      " |    |    |    |-- rate_float: double (nullable = true)\n",
      " |    |    |    |-- symbol: string (nullable = true)\n",
      " |    |    |-- USD: struct (nullable = true)\n",
      " |    |    |    |-- code: string (nullable = true)\n",
      " |    |    |    |-- description: string (nullable = true)\n",
      " |    |    |    |-- rate: string (nullable = true)\n",
      " |    |    |    |-- rate_float: double (nullable = true)\n",
      " |    |    |    |-- symbol: string (nullable = true)\n",
      " |    |-- chartName: string (nullable = true)\n",
      " |    |-- disclaimer: string (nullable = true)\n",
      " |    |-- time: struct (nullable = true)\n",
      " |    |    |-- updated: string (nullable = true)\n",
      " |    |    |-- updatedISO: string (nullable = true)\n",
      " |    |    |-- updateduk: string (nullable = true)\n",
      "\n"
     ]
    }
   ],
   "source": [
    "df_wazir.printSchema()"
   ]
  },
  {
   "cell_type": "code",
   "execution_count": null,
   "id": "831d247c-ea96-4cc7-9343-3739845d34da",
   "metadata": {},
   "outputs": [],
   "source": []
  }
 ],
 "metadata": {
  "kernelspec": {
   "display_name": "Python 3 (ipykernel)",
   "language": "python",
   "name": "python3"
  },
  "language_info": {
   "codemirror_mode": {
    "name": "ipython",
    "version": 3
   },
   "file_extension": ".py",
   "mimetype": "text/x-python",
   "name": "python",
   "nbconvert_exporter": "python",
   "pygments_lexer": "ipython3",
   "version": "3.11.4"
  }
 },
 "nbformat": 4,
 "nbformat_minor": 5
}
