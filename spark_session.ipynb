{
 "cells": [
  {
   "cell_type": "code",
   "execution_count": 2,
   "id": "494e3848-394d-4deb-a8ea-f4e60e460d83",
   "metadata": {},
   "outputs": [],
   "source": [
    "from pyspark.sql import SparkSession "
   ]
  },
  {
   "cell_type": "code",
   "execution_count": 3,
   "id": "6bca6cd1-554d-4c19-ba93-e9079a1c7ac7",
   "metadata": {},
   "outputs": [
    {
     "name": "stderr",
     "output_type": "stream",
     "text": [
      "Setting default log level to \"WARN\".\n",
      "To adjust logging level use sc.setLogLevel(newLevel). For SparkR, use setLogLevel(newLevel).\n",
      "23/08/16 14:40:50 WARN NativeCodeLoader: Unable to load native-hadoop library for your platform... using builtin-java classes where applicable\n"
     ]
    }
   ],
   "source": [
    "spark= SparkSession.builder.appName(\"csv_reading\").master(\"local[*]\").getOrCreate()"
   ]
  },
  {
   "cell_type": "code",
   "execution_count": 4,
   "id": "4d1ae13f-02a1-49e3-b5bd-09133a18e338",
   "metadata": {},
   "outputs": [
    {
     "data": {
      "text/html": [
       "\n",
       "            <div>\n",
       "                <p><b>SparkSession - in-memory</b></p>\n",
       "                \n",
       "        <div>\n",
       "            <p><b>SparkContext</b></p>\n",
       "\n",
       "            <p><a href=\"http://192.168.1.102:4040\">Spark UI</a></p>\n",
       "\n",
       "            <dl>\n",
       "              <dt>Version</dt>\n",
       "                <dd><code>v3.4.1</code></dd>\n",
       "              <dt>Master</dt>\n",
       "                <dd><code>local[*]</code></dd>\n",
       "              <dt>AppName</dt>\n",
       "                <dd><code>csv_reading</code></dd>\n",
       "            </dl>\n",
       "        </div>\n",
       "        \n",
       "            </div>\n",
       "        "
      ],
      "text/plain": [
       "<pyspark.sql.session.SparkSession at 0x111c67890>"
      ]
     },
     "execution_count": 4,
     "metadata": {},
     "output_type": "execute_result"
    }
   ],
   "source": [
    "spark"
   ]
  },
  {
   "cell_type": "code",
   "execution_count": 5,
   "id": "3c1618b3-6021-47b2-a75f-8879afc9e674",
   "metadata": {},
   "outputs": [],
   "source": [
    "emp_data =[\n",
    "    [\"1\",\"aman\",\"BigData\"],\n",
    "    [\"2\",\"randeep\",\"FullStack\"]\n",
    "]\n",
    "\n",
    "schema_emp = \"employee_id string, employee_name string, dept string\""
   ]
  },
  {
   "cell_type": "code",
   "execution_count": 6,
   "id": "5015e71e-a9c1-4682-b50c-e4e1ccb0d382",
   "metadata": {},
   "outputs": [],
   "source": [
    "emp=spark.createDataFrame(data=emp_data,schema=schema_emp)"
   ]
  },
  {
   "cell_type": "code",
   "execution_count": 7,
   "id": "ca192598-f725-4c09-bab6-e49b803be963",
   "metadata": {},
   "outputs": [
    {
     "data": {
      "text/plain": [
       "8"
      ]
     },
     "execution_count": 7,
     "metadata": {},
     "output_type": "execute_result"
    }
   ],
   "source": [
    "emp.rdd.getNumPartitions()"
   ]
  },
  {
   "cell_type": "code",
   "execution_count": 8,
   "id": "e8376d92-1f43-4215-824b-53c473e5a4e4",
   "metadata": {},
   "outputs": [
    {
     "name": "stderr",
     "output_type": "stream",
     "text": [
      "                                                                                \r"
     ]
    },
    {
     "name": "stdout",
     "output_type": "stream",
     "text": [
      "+-----------+-------------+---------+\n",
      "|employee_id|employee_name|     dept|\n",
      "+-----------+-------------+---------+\n",
      "|          1|         aman|  BigData|\n",
      "|          2|      randeep|FullStack|\n",
      "+-----------+-------------+---------+\n",
      "\n"
     ]
    }
   ],
   "source": [
    "emp.show()"
   ]
  },
  {
   "cell_type": "code",
   "execution_count": null,
   "id": "cf2161df-8326-41cf-a7b3-9e6665410ef5",
   "metadata": {},
   "outputs": [],
   "source": [
    "from pyspark.sql.functions import col ,expr"
   ]
  },
  {
   "cell_type": "code",
   "execution_count": 11,
   "id": "d40852a0-050f-45e0-b5a8-af1fd9a01541",
   "metadata": {},
   "outputs": [],
   "source": [
    "emp_cast=emp.selectExpr(\"employee_name as name\" ,\"cast(employee_id as int) as id\",\"dept\")"
   ]
  },
  {
   "cell_type": "code",
   "execution_count": 12,
   "id": "c530e55b-9f69-48e4-8f73-261dec68de14",
   "metadata": {},
   "outputs": [
    {
     "name": "stdout",
     "output_type": "stream",
     "text": [
      "+-------+---+---------+\n",
      "|   name| id|     dept|\n",
      "+-------+---+---------+\n",
      "|   aman|  1|  BigData|\n",
      "|randeep|  2|FullStack|\n",
      "+-------+---+---------+\n",
      "\n"
     ]
    }
   ],
   "source": [
    "emp_cast.show()"
   ]
  },
  {
   "cell_type": "code",
   "execution_count": 14,
   "id": "88180921-cbba-4663-b38b-2e371ce0e48c",
   "metadata": {},
   "outputs": [
    {
     "data": {
      "text/plain": [
       "<bound method DataFrame.printSchema of DataFrame[name: string, id: int, dept: string]>"
      ]
     },
     "execution_count": 14,
     "metadata": {},
     "output_type": "execute_result"
    }
   ],
   "source": [
    "emp_cast.printSchema"
   ]
  },
  {
   "cell_type": "code",
   "execution_count": null,
   "id": "12422df3-1d90-4b1f-a79f-203c66c2761e",
   "metadata": {},
   "outputs": [],
   "source": []
  }
 ],
 "metadata": {
  "kernelspec": {
   "display_name": "Python 3 (ipykernel)",
   "language": "python",
   "name": "python3"
  },
  "language_info": {
   "codemirror_mode": {
    "name": "ipython",
    "version": 3
   },
   "file_extension": ".py",
   "mimetype": "text/x-python",
   "name": "python",
   "nbconvert_exporter": "python",
   "pygments_lexer": "ipython3",
   "version": "3.11.4"
  }
 },
 "nbformat": 4,
 "nbformat_minor": 5
}
