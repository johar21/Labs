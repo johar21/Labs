{
 "cells": [
  {
   "cell_type": "code",
   "execution_count": 1,
   "id": "1f697b4b-bddb-4749-897b-a1f041c0766a",
   "metadata": {},
   "outputs": [
    {
     "name": "stderr",
     "output_type": "stream",
     "text": [
      "23/09/24 00:59:41 WARN Utils: Your hostname, Amandeeps-MacBook-Air.local resolves to a loopback address: 127.0.0.1; using 192.168.0.114 instead (on interface en0)\n",
      "23/09/24 00:59:41 WARN Utils: Set SPARK_LOCAL_IP if you need to bind to another address\n",
      "Setting default log level to \"WARN\".\n",
      "To adjust logging level use sc.setLogLevel(newLevel). For SparkR, use setLogLevel(newLevel).\n",
      "23/09/24 00:59:42 WARN NativeCodeLoader: Unable to load native-hadoop library for your platform... using builtin-java classes where applicable\n"
     ]
    },
    {
     "data": {
      "text/html": [
       "\n",
       "            <div>\n",
       "                <p><b>SparkSession - in-memory</b></p>\n",
       "                \n",
       "        <div>\n",
       "            <p><b>SparkContext</b></p>\n",
       "\n",
       "            <p><a href=\"http://192.168.0.114:4040\">Spark UI</a></p>\n",
       "\n",
       "            <dl>\n",
       "              <dt>Version</dt>\n",
       "                <dd><code>v3.4.1</code></dd>\n",
       "              <dt>Master</dt>\n",
       "                <dd><code>local[2]</code></dd>\n",
       "              <dt>AppName</dt>\n",
       "                <dd><code>Fix Headers</code></dd>\n",
       "            </dl>\n",
       "        </div>\n",
       "        \n",
       "            </div>\n",
       "        "
      ],
      "text/plain": [
       "<pyspark.sql.session.SparkSession at 0x1058a79d0>"
      ]
     },
     "execution_count": 1,
     "metadata": {},
     "output_type": "execute_result"
    }
   ],
   "source": [
    "from pyspark.sql import SparkSession\n",
    "\n",
    "spark = SparkSession \\\n",
    "    .builder \\\n",
    "    .appName(\"Fix Headers\") \\\n",
    "    .master(\"local[2]\") \\\n",
    "    .getOrCreate()\n",
    "\n",
    "spark"
   ]
  },
  {
   "cell_type": "code",
   "execution_count": 5,
   "id": "d6a94e67-da51-434c-906e-d87ff635e557",
   "metadata": {},
   "outputs": [],
   "source": [
    "from pyspark.sql import DataFrame\n",
    "\n",
    "def fix_header(df: DataFrame) -> list:\n",
    "    fixed_col_list: list = []\n",
    "    for col in df.columns:\n",
    "        fixed_col_list.append(f\"`{str(col).strip()}` as {str(col).strip().replace(' ','_').lower()}\")\n",
    "        \n",
    "    return fixed_col_list"
   ]
  },
  {
   "cell_type": "code",
   "execution_count": 13,
   "id": "23fecf90-1939-4b69-950c-fe36eef52a4d",
   "metadata": {},
   "outputs": [
    {
     "name": "stdout",
     "output_type": "stream",
     "text": [
      "root\n",
      " |-- First Name: string (nullable = true)\n",
      " |-- Last Name: string (nullable = true)\n",
      " |-- Dept Name: string (nullable = true)\n",
      " |-- Dept ID: string (nullable = true)\n",
      " |-- Salary: string (nullable = true)\n",
      "\n",
      "+----------+----------+---------+-------+------+\n",
      "|First Name| Last Name|Dept Name|Dept ID|Salary|\n",
      "+----------+----------+---------+-------+------+\n",
      "|      Amit|     Kumar|  Physics|    PHY| 30000|\n",
      "|     Anwar|    Ansari|Chemistry|   CHEM| 30000|\n",
      "|      Rita|      null|    Maths|   MATH| 39000|\n",
      "|    Deepak|Chaturvedi|  Biology|    BIO| 30000|\n",
      "+----------+----------+---------+-------+------+\n",
      "\n",
      "['`First Name` as first_name', '`Last Name` as last_name', '`Dept Name` as dept_name', '`Dept ID` as dept_id', '`Salary` as salary']\n",
      "root\n",
      " |-- first_name: string (nullable = true)\n",
      " |-- last_name: string (nullable = true)\n",
      " |-- dept_name: string (nullable = true)\n",
      " |-- dept_id: string (nullable = true)\n",
      " |-- salary: string (nullable = true)\n",
      "\n",
      "+----------+----------+---------+-------+------+\n",
      "|first_name| last_name|dept_name|dept_id|salary|\n",
      "+----------+----------+---------+-------+------+\n",
      "|      Amit|     Kumar|  Physics|    PHY| 30000|\n",
      "|     Anwar|    Ansari|Chemistry|   CHEM| 30000|\n",
      "|      Rita|      null|    Maths|   MATH| 39000|\n",
      "|    Deepak|Chaturvedi|  Biology|    BIO| 30000|\n",
      "+----------+----------+---------+-------+------+\n",
      "\n"
     ]
    }
   ],
   "source": [
    "raw_df = spark.read.format(\"csv\").option(\"header\", True).load(\"/Users/amandeepsinghjohar/Code/JupterLab/data/student.csv\")\n",
    "raw_df.printSchema()\n",
    "raw_df.show()\n",
    "fixed_headers = fix_header(df = raw_df)\n",
    "print(fixed_headers)\n",
    "# Apply to create the new dataframe\n",
    "fixed_df = raw_df.selectExpr(fixed_headers)\n",
    "fixed_df.printSchema()\n",
    "fixed_df.show()"
   ]
  },
  {
   "cell_type": "code",
   "execution_count": null,
   "id": "cc9e4ae0-a10a-4712-81a3-7b4ee33cb490",
   "metadata": {},
   "outputs": [],
   "source": []
  }
 ],
 "metadata": {
  "kernelspec": {
   "display_name": "Python 3 (ipykernel)",
   "language": "python",
   "name": "python3"
  },
  "language_info": {
   "codemirror_mode": {
    "name": "ipython",
    "version": 3
   },
   "file_extension": ".py",
   "mimetype": "text/x-python",
   "name": "python",
   "nbconvert_exporter": "python",
   "pygments_lexer": "ipython3",
   "version": "3.11.4"
  }
 },
 "nbformat": 4,
 "nbformat_minor": 5
}
